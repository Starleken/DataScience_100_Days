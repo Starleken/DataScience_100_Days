{
 "cells": [
  {
   "cell_type": "code",
   "execution_count": 71,
   "id": "22c9798a-515c-446d-a9e0-4c1f4ff8e79b",
   "metadata": {},
   "outputs": [],
   "source": [
    "import pandas as pd\n",
    "from random import randint, choice"
   ]
  },
  {
   "cell_type": "code",
   "execution_count": 14,
   "id": "0c8f266d-16db-4225-81cf-73d1532c0805",
   "metadata": {},
   "outputs": [],
   "source": [
    "vector = [randint(-50,50) for i in range(100)]\n",
    "string_vector = ['casvasv', 'agsagsa', '12412']"
   ]
  },
  {
   "cell_type": "code",
   "execution_count": 15,
   "id": "85de1890-a8cc-4c58-bb09-bf5dcabb4711",
   "metadata": {},
   "outputs": [
    {
     "name": "stdout",
     "output_type": "stream",
     "text": [
      "0    -3000\n",
      "1     4300\n",
      "2      100\n",
      "3     -700\n",
      "4     2600\n",
      "      ... \n",
      "95   -3300\n",
      "96     700\n",
      "97   -3200\n",
      "98   -1800\n",
      "99   -4200\n",
      "Length: 100, dtype: int64\n"
     ]
    }
   ],
   "source": [
    "series = pd.Series(vector)\n",
    "string_series = pd.Series(string_vector)\n",
    "print(series * 100)"
   ]
  },
  {
   "cell_type": "code",
   "execution_count": 16,
   "id": "0f657f82-0818-4b8b-9428-93fd748cf3d4",
   "metadata": {},
   "outputs": [
    {
     "name": "stdout",
     "output_type": "stream",
     "text": [
      "{1, 2, 3, 5, 6, 7, 8, 9, 10, 12, 13, 14, 16, 19, 20, 22, 24, 26, 27, 28, 32, 33, 35, 36, 40, 41, 43, 44, 45, 46, 47, 49, -50, -49, -48, -46, -45, -44, -42, -41, -40, -39, -37, -35, -34, -33, -32, -30, -28, -27, -26, -23, -21, -20, -19, -18, -17, -15, -14, -13, -12, -11, -10, -9, -8, -7, -6}\n"
     ]
    }
   ],
   "source": [
    "print(set(series))"
   ]
  },
  {
   "cell_type": "code",
   "execution_count": 30,
   "id": "c4b4cf67-8e00-4fab-a55b-1224f519b886",
   "metadata": {},
   "outputs": [
    {
     "name": "stdout",
     "output_type": "stream",
     "text": [
      "Индексы: RangeIndex(start=0, stop=100, step=1)\n",
      "Длина: 100\n",
      "Уникальны ли значения: False\n",
      "Среднее значение: -5.19\n"
     ]
    }
   ],
   "source": [
    "print('Индексы: ' + str(series.index))\n",
    "print('Длина: ' + str(len(series)))\n",
    "print('Уникальны ли значения: ' + str(series.is_unique))\n",
    "print('Среднее значение: '+ str(series.mean()))"
   ]
  },
  {
   "cell_type": "code",
   "execution_count": 44,
   "id": "e69c81cb-9118-4cc3-acb9-da8d90f8b63a",
   "metadata": {},
   "outputs": [
    {
     "name": "stdout",
     "output_type": "stream",
     "text": [
      "Первые десять элементов\n",
      "0   -30\n",
      "1    43\n",
      "2     1\n",
      "3    -7\n",
      "4    26\n",
      "5    13\n",
      "6     8\n",
      "7     9\n",
      "8   -46\n",
      "9   -39\n",
      "dtype: int64\n",
      "\n",
      "Последние десять элементов\n",
      "90    32\n",
      "91    35\n",
      "92     5\n",
      "93    20\n",
      "94     7\n",
      "95   -33\n",
      "96     7\n",
      "97   -32\n",
      "98   -18\n",
      "99   -42\n",
      "dtype: int64\n",
      "\n",
      "Десять элементов с середины\n",
      "50    44\n",
      "51   -32\n",
      "52    14\n",
      "53   -34\n",
      "54   -20\n",
      "55    33\n",
      "56   -27\n",
      "57     9\n",
      "58   -19\n",
      "59    19\n",
      "60   -13\n",
      "dtype: int64\n"
     ]
    }
   ],
   "source": [
    "print('Первые десять элементов')\n",
    "print(series.head(10))\n",
    "print('\\nПоследние десять элементов')\n",
    "print(series.tail(10))\n",
    "print('\\nДесять элементов с середины')\n",
    "print(series.take(range(50,61)))"
   ]
  },
  {
   "cell_type": "code",
   "execution_count": 46,
   "id": "f55742ce-c4ed-4606-852a-e8bd5663c13a",
   "metadata": {},
   "outputs": [
    {
     "name": "stdout",
     "output_type": "stream",
     "text": [
      "0   -30\n",
      "1    43\n",
      "2     1\n",
      "3    -7\n",
      "4    26\n",
      "5    13\n",
      "6     8\n",
      "7     9\n",
      "8   -46\n",
      "9   -39\n",
      "dtype: int64\n"
     ]
    }
   ],
   "source": [
    "print(series[:10])"
   ]
  },
  {
   "cell_type": "code",
   "execution_count": 170,
   "id": "22ef69fe-dcad-46ad-b3b3-6db6b532b9c8",
   "metadata": {},
   "outputs": [
    {
     "name": "stdout",
     "output_type": "stream",
     "text": [
      "50\n",
      "43\n"
     ]
    }
   ],
   "source": [
    "indexes = [choice([1,6]) for i in range(100)]\n",
    "not_unique_series = pd.Series(series, indexes)\n",
    "\n",
    "print(len(not_unique_series.loc[1]))\n",
    "print(not_unique_series.iloc[1])"
   ]
  },
  {
   "cell_type": "code",
   "execution_count": 176,
   "id": "6e689654-68c7-4394-9e83-26e4a75068a1",
   "metadata": {},
   "outputs": [
    {
     "name": "stdout",
     "output_type": "stream",
     "text": [
      "Сортировка по значению\n",
      "42    49\n",
      "70    49\n",
      "20    47\n",
      "73    46\n",
      "14    45\n",
      "      ..\n",
      "8    -46\n",
      "89   -48\n",
      "30   -49\n",
      "21   -50\n",
      "75   -50\n",
      "Length: 100, dtype: int64\n",
      "\n",
      "Сортировка по ключу\n",
      "0    -30\n",
      "1     43\n",
      "2      1\n",
      "3     -7\n",
      "4     26\n",
      "      ..\n",
      "95   -33\n",
      "96     7\n",
      "97   -32\n",
      "98   -18\n",
      "99   -42\n",
      "Length: 100, dtype: int64\n"
     ]
    }
   ],
   "source": [
    "print('Сортировка по значению')\n",
    "print(series.sort_values(ascending=False))\n",
    "print('\\nСортировка по ключу')\n",
    "print(series.sort_index())"
   ]
  },
  {
   "cell_type": "code",
   "execution_count": 177,
   "id": "c936aa85-1654-40fe-98bf-857e1c4d13b6",
   "metadata": {},
   "outputs": [
    {
     "name": "stdout",
     "output_type": "stream",
     "text": [
      "0     Negative\n",
      "1     Positive\n",
      "2     Positive\n",
      "3     Negative\n",
      "4     Positive\n",
      "        ...   \n",
      "95    Negative\n",
      "96    Positive\n",
      "97    Negative\n",
      "98    Negative\n",
      "99    Negative\n",
      "Length: 100, dtype: object\n"
     ]
    }
   ],
   "source": [
    "def func(x):\n",
    "    if x > 0:\n",
    "        return 'Positive'\n",
    "    elif x < 0:\n",
    "        return 'Negative'\n",
    "    else:\n",
    "        return 'Zero'\n",
    "\n",
    "print(series.apply(func))"
   ]
  }
 ],
 "metadata": {
  "kernelspec": {
   "display_name": "Python 3 (ipykernel)",
   "language": "python",
   "name": "python3"
  },
  "language_info": {
   "codemirror_mode": {
    "name": "ipython",
    "version": 3
   },
   "file_extension": ".py",
   "mimetype": "text/x-python",
   "name": "python",
   "nbconvert_exporter": "python",
   "pygments_lexer": "ipython3",
   "version": "3.11.5"
  }
 },
 "nbformat": 4,
 "nbformat_minor": 5
}
