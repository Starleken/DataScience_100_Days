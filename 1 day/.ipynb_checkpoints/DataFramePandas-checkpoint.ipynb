{
 "cells": [
  {
   "cell_type": "code",
   "execution_count": 155,
   "id": "7789b0d1-e5cb-44c3-b387-df0be934fac4",
   "metadata": {},
   "outputs": [],
   "source": [
    "import pandas as pd\n",
    "from faker import Faker"
   ]
  },
  {
   "cell_type": "code",
   "execution_count": 156,
   "id": "d65edda8-adf7-4a35-ac39-e694061cd2fa",
   "metadata": {},
   "outputs": [
    {
     "name": "stdout",
     "output_type": "stream",
     "text": [
      "Empty DataFrame\n",
      "Columns: []\n",
      "Index: []\n"
     ]
    }
   ],
   "source": [
    "df = pd.DataFrame()\n",
    "print(df)"
   ]
  },
  {
   "cell_type": "code",
   "execution_count": 172,
   "id": "2f04d2c1-8b00-46ac-bd45-6f5497757671",
   "metadata": {},
   "outputs": [
    {
     "name": "stdout",
     "output_type": "stream",
     "text": [
      "       Name   Surname\n",
      "0   Caitlin  Williams\n",
      "1     James   Robbins\n",
      "2   Heather     White\n",
      "3    Samuel     Oneal\n",
      "4    George     Woods\n",
      "5     Linda     Jones\n",
      "6  Michelle     Clark\n",
      "7    Victor    Brandt\n",
      "8     Jenna    Watson\n",
      "9     David  Friedman\n"
     ]
    }
   ],
   "source": [
    "fake = Faker()\n",
    "\n",
    "people = [fake.name().split() for i in range (10)]\n",
    "people_df = pd.DataFrame(people, columns = ['Name', 'Surname'])\n",
    "\n",
    "print(people_df)\n",
    "\n",
    "people_df.to_csv('C:\\\\Users\\\\Starleken\\\\Desktop\\\\data1.csv')"
   ]
  },
  {
   "cell_type": "code",
   "execution_count": 291,
   "id": "c5aedf07-a8a4-4ff6-92be-8dbd3930d3a4",
   "metadata": {},
   "outputs": [
    {
     "name": "stdout",
     "output_type": "stream",
     "text": [
      "        Name   Surname\n",
      "0    Caitlin  Williams\n",
      "1      James   Robbins\n",
      "2    Heather     White\n",
      "3     Samuel     Oneal\n",
      "4     George     Woods\n",
      "5      Linda     Jones\n",
      "6   Michelle     Clark\n",
      "7     Victor    Brandt\n",
      "8      Jenna    Watson\n",
      "9      David  Friedman\n",
      "9      David  Friedman\n",
      "7     Victor   Brandtt\n",
      "10       NaN   Brandtt\n",
      "\n",
      "          Name   Surname\n",
      "count       12        13\n",
      "unique      10        11\n",
      "top     Victor  Friedman\n",
      "freq         2         2\n"
     ]
    }
   ],
   "source": [
    "real_df = pd.read_csv('C:\\\\Users\\\\Starleken\\\\Desktop\\\\data1.csv', sep=',')\n",
    "print(real_df)\n",
    "print()\n",
    "print(real_df.describe())"
   ]
  },
  {
   "cell_type": "code",
   "execution_count": 292,
   "id": "e90b95ec-60af-412f-bae3-a47ccc14b041",
   "metadata": {},
   "outputs": [
    {
     "name": "stdout",
     "output_type": "stream",
     "text": [
      "Длина датафрейма: 13\n",
      "Индексы датафрейма: Index([0, 1, 2, 3, 4, 5, 6, 7, 8, 9, 9, 7, 10], dtype='int64')\n",
      "Name\n",
      "Victor      2\n",
      "David       2\n",
      "Caitlin     1\n",
      "James       1\n",
      "Heather     1\n",
      "Samuel      1\n",
      "George      1\n",
      "Linda       1\n",
      "Michelle    1\n",
      "Jenna       1\n",
      "Name: count, dtype: int64\n"
     ]
    }
   ],
   "source": [
    "print('Длина датафрейма: ' + str(len(real_df)))\n",
    "print('Индексы датафрейма: ' + str(real_df.index))\n",
    "print(real_df['Name'].value_counts())"
   ]
  },
  {
   "cell_type": "code",
   "execution_count": 314,
   "id": "f048a3ed-68df-4f60-a71f-3bdb6af8622b",
   "metadata": {},
   "outputs": [
    {
     "data": {
      "text/html": [
       "<div>\n",
       "<style scoped>\n",
       "    .dataframe tbody tr th:only-of-type {\n",
       "        vertical-align: middle;\n",
       "    }\n",
       "\n",
       "    .dataframe tbody tr th {\n",
       "        vertical-align: top;\n",
       "    }\n",
       "\n",
       "    .dataframe thead th {\n",
       "        text-align: right;\n",
       "    }\n",
       "</style>\n",
       "<table border=\"1\" class=\"dataframe\">\n",
       "  <thead>\n",
       "    <tr style=\"text-align: right;\">\n",
       "      <th></th>\n",
       "      <th>Name</th>\n",
       "      <th>Surname</th>\n",
       "    </tr>\n",
       "  </thead>\n",
       "  <tbody>\n",
       "    <tr>\n",
       "      <th>0</th>\n",
       "      <td>Caitlin</td>\n",
       "      <td>Williams</td>\n",
       "    </tr>\n",
       "    <tr>\n",
       "      <th>9</th>\n",
       "      <td>David</td>\n",
       "      <td>Friedman</td>\n",
       "    </tr>\n",
       "    <tr>\n",
       "      <th>9</th>\n",
       "      <td>David</td>\n",
       "      <td>Friedman</td>\n",
       "    </tr>\n",
       "    <tr>\n",
       "      <th>4</th>\n",
       "      <td>George</td>\n",
       "      <td>Woods</td>\n",
       "    </tr>\n",
       "    <tr>\n",
       "      <th>2</th>\n",
       "      <td>Heather</td>\n",
       "      <td>White</td>\n",
       "    </tr>\n",
       "    <tr>\n",
       "      <th>1</th>\n",
       "      <td>James</td>\n",
       "      <td>Robbins</td>\n",
       "    </tr>\n",
       "    <tr>\n",
       "      <th>8</th>\n",
       "      <td>Jenna</td>\n",
       "      <td>Watson</td>\n",
       "    </tr>\n",
       "    <tr>\n",
       "      <th>5</th>\n",
       "      <td>Linda</td>\n",
       "      <td>Jones</td>\n",
       "    </tr>\n",
       "    <tr>\n",
       "      <th>6</th>\n",
       "      <td>Michelle</td>\n",
       "      <td>Clark</td>\n",
       "    </tr>\n",
       "    <tr>\n",
       "      <th>3</th>\n",
       "      <td>Samuel</td>\n",
       "      <td>Oneal</td>\n",
       "    </tr>\n",
       "    <tr>\n",
       "      <th>10</th>\n",
       "      <td>Unknown</td>\n",
       "      <td>Brandtt</td>\n",
       "    </tr>\n",
       "    <tr>\n",
       "      <th>7</th>\n",
       "      <td>Victor</td>\n",
       "      <td>Brandt</td>\n",
       "    </tr>\n",
       "    <tr>\n",
       "      <th>7</th>\n",
       "      <td>Victor</td>\n",
       "      <td>Brandtt</td>\n",
       "    </tr>\n",
       "  </tbody>\n",
       "</table>\n",
       "</div>"
      ],
      "text/plain": [
       "        Name   Surname\n",
       "0    Caitlin  Williams\n",
       "9      David  Friedman\n",
       "9      David  Friedman\n",
       "4     George     Woods\n",
       "2    Heather     White\n",
       "1      James   Robbins\n",
       "8      Jenna    Watson\n",
       "5      Linda     Jones\n",
       "6   Michelle     Clark\n",
       "3     Samuel     Oneal\n",
       "10   Unknown   Brandtt\n",
       "7     Victor    Brandt\n",
       "7     Victor   Brandtt"
      ]
     },
     "execution_count": 314,
     "metadata": {},
     "output_type": "execute_result"
    }
   ],
   "source": [
    "real_df.sort_values('Name')"
   ]
  },
  {
   "cell_type": "code",
   "execution_count": 313,
   "id": "e96dca99-949b-4fa5-9e81-fc4bc15d0f38",
   "metadata": {},
   "outputs": [
    {
     "name": "stdout",
     "output_type": "stream",
     "text": [
      "        Name   Surname\n",
      "0    Caitlin  Williams\n",
      "1      James   Robbins\n",
      "2    Heather     White\n",
      "3     Samuel     Oneal\n",
      "4     George     Woods\n",
      "5      Linda     Jones\n",
      "6   Michelle     Clark\n",
      "7     Victor    Brandt\n",
      "8      Jenna    Watson\n",
      "9      David  Friedman\n",
      "9      David  Friedman\n",
      "7     Victor   Brandtt\n",
      "10   Unknown   Brandtt\n"
     ]
    }
   ],
   "source": [
    "real_df = real_df.fillna('Unknown')\n",
    "\n",
    "print(real_df)"
   ]
  }
 ],
 "metadata": {
  "kernelspec": {
   "display_name": "Python 3 (ipykernel)",
   "language": "python",
   "name": "python3"
  },
  "language_info": {
   "codemirror_mode": {
    "name": "ipython",
    "version": 3
   },
   "file_extension": ".py",
   "mimetype": "text/x-python",
   "name": "python",
   "nbconvert_exporter": "python",
   "pygments_lexer": "ipython3",
   "version": "3.11.5"
  }
 },
 "nbformat": 4,
 "nbformat_minor": 5
}
