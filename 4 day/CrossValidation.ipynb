{
 "cells": [
  {
   "cell_type": "code",
   "execution_count": 215,
   "id": "1032cdd0-8e76-4066-bbab-69bc930bf0df",
   "metadata": {},
   "outputs": [],
   "source": [
    "import sklearn\n",
    "import pandas as pd\n",
    "from sklearn.model_selection import train_test_split\n",
    "from sklearn.model_selection import KFold\n",
    "from sklearn.linear_model import LogisticRegression\n",
    "from sklearn.model_selection import StratifiedKFold"
   ]
  },
  {
   "cell_type": "code",
   "execution_count": 206,
   "id": "fb503d43-31a5-448c-840a-76ae7221f696",
   "metadata": {},
   "outputs": [],
   "source": [
    "data = sklearn.datasets.load_iris()\n",
    "df = pd.DataFrame(data.data, columns = data.feature_names)\n",
    "df['target'] = data.target\n",
    "y = df['target']\n",
    "df = df.drop(['target'], axis=1)"
   ]
  },
  {
   "attachments": {},
   "cell_type": "markdown",
   "id": "6cc36c0e-476a-4b40-a68c-016633adc1b4",
   "metadata": {},
   "source": [
    "### Hold-Out"
   ]
  },
  {
   "cell_type": "code",
   "execution_count": 207,
   "id": "75dbbb77-404f-49b2-ba2a-333d350f1833",
   "metadata": {},
   "outputs": [
    {
     "name": "stdout",
     "output_type": "stream",
     "text": [
      "Precision, Recall\n",
      "\n",
      "              precision    recall  f1-score   support\n",
      "\n",
      "           0      1.000     1.000     1.000        19\n",
      "           1      1.000     1.000     1.000        13\n",
      "           2      1.000     1.000     1.000        13\n",
      "\n",
      "    accuracy                          1.000        45\n",
      "   macro avg      1.000     1.000     1.000        45\n",
      "weighted avg      1.000     1.000     1.000        45\n",
      "\n"
     ]
    }
   ],
   "source": [
    "X_train, X_test, y_train, y_test = train_test_split(df, y, test_size = 0.3, random_state = 42)\n",
    "logistic_regression = LogisticRegression(max_iter = 1000)\n",
    "logistic_regression.fit(X_train, y_train)\n",
    "\n",
    "test_prediction = logistic_regression.predict(X_test)\n",
    "\n",
    "print(\"Precision, Recall\\n\")\n",
    "print(sklearn.metrics.classification_report(y_test, test_prediction, digits=3))"
   ]
  },
  {
   "cell_type": "markdown",
   "id": "518c03e0-c08b-456d-9097-977f9a8c8490",
   "metadata": {},
   "source": [
    "### k-Fold"
   ]
  },
  {
   "cell_type": "code",
   "execution_count": 209,
   "id": "a752de12-46f0-415f-90d9-5e7aa8e97332",
   "metadata": {},
   "outputs": [],
   "source": [
    "kf = KFold(n_splits=5)\n",
    "for train_index, test_index in kf.split(df):\n",
    "    X_train_fold, X_test_fold = df.iloc[train_index], df.iloc[test_index]\n",
    "    y_train_fold, y_test_fold = y[train_index], y[test_index]"
   ]
  },
  {
   "cell_type": "markdown",
   "id": "2c37525e-3f45-42e4-9021-82f8bc2a1797",
   "metadata": {},
   "source": [
    "### stratificated Hold-Out"
   ]
  },
  {
   "cell_type": "code",
   "execution_count": 214,
   "id": "814d8b3c-603a-4c02-98b6-61004d1f8882",
   "metadata": {},
   "outputs": [
    {
     "name": "stdout",
     "output_type": "stream",
     "text": [
      "Precision, Recall\n",
      "\n",
      "              precision    recall  f1-score   support\n",
      "\n",
      "           0      1.000     1.000     1.000        15\n",
      "           1      0.875     0.933     0.903        15\n",
      "           2      0.929     0.867     0.897        15\n",
      "\n",
      "    accuracy                          0.933        45\n",
      "   macro avg      0.935     0.933     0.933        45\n",
      "weighted avg      0.935     0.933     0.933        45\n",
      "\n"
     ]
    }
   ],
   "source": [
    "X_train, X_test, y_train, y_test = train_test_split(df, y, test_size = 0.3, random_state = 42, stratify=y)\n",
    "logistic_regression = LogisticRegression(max_iter = 1000)\n",
    "logistic_regression.fit(X_train, y_train)\n",
    "\n",
    "test_prediction = logistic_regression.predict(X_test)\n",
    "\n",
    "print(\"Precision, Recall\\n\")\n",
    "print(sklearn.metrics.classification_report(y_test, test_prediction, digits=3))"
   ]
  },
  {
   "cell_type": "markdown",
   "id": "2a8a7dfb-de44-42ba-a949-b2aad18bf446",
   "metadata": {},
   "source": [
    "### stratificated K-fold"
   ]
  },
  {
   "cell_type": "code",
   "execution_count": 216,
   "id": "b4bcb1da-2fc6-4518-a237-cd3217365cdd",
   "metadata": {},
   "outputs": [],
   "source": [
    "skf = StratifiedKFold(n_splits=5)\n",
    "\n",
    "for train_index, test_index in skf.split(df, y):\n",
    "    X_train_fold, X_test_fold = df.iloc[train_index], df.iloc[test_index]\n",
    "    y_train_fold, y_test_fold = y[train_index], y[test_index]"
   ]
  }
 ],
 "metadata": {
  "kernelspec": {
   "display_name": "Python 3 (ipykernel)",
   "language": "python",
   "name": "python3"
  },
  "language_info": {
   "codemirror_mode": {
    "name": "ipython",
    "version": 3
   },
   "file_extension": ".py",
   "mimetype": "text/x-python",
   "name": "python",
   "nbconvert_exporter": "python",
   "pygments_lexer": "ipython3",
   "version": "3.11.5"
  }
 },
 "nbformat": 4,
 "nbformat_minor": 5
}
