{
 "cells": [
  {
   "cell_type": "code",
   "execution_count": 48,
   "id": "13008a22-6a39-4efd-859b-ab792923720a",
   "metadata": {},
   "outputs": [],
   "source": [
    "import pandas\n",
    "from sklearn.preprocessing import LabelEncoder\n",
    "from sklearn.preprocessing import OneHotEncoder"
   ]
  },
  {
   "cell_type": "markdown",
   "id": "c74b0f34-63e6-46c0-b6a3-ffe15f08d2ea",
   "metadata": {},
   "source": [
    "### Label encoding"
   ]
  },
  {
   "cell_type": "markdown",
   "id": "89c92d85-416f-4c6b-bfb3-5b433f71107d",
   "metadata": {},
   "source": [
    "each unique categorical value is encoded by a certain number, but in this way the same important features get different weight"
   ]
  },
  {
   "cell_type": "code",
   "execution_count": 76,
   "id": "2daea599-2e04-4fa8-8202-78c6ba620640",
   "metadata": {},
   "outputs": [
    {
     "name": "stdout",
     "output_type": "stream",
     "text": [
      "[1 0 3 2 1 1 4]\n"
     ]
    },
    {
     "name": "stderr",
     "output_type": "stream",
     "text": [
      "C:\\Users\\Starleken\\AppData\\Local\\Programs\\Python\\Python311\\Lib\\site-packages\\sklearn\\preprocessing\\_label.py:114: DataConversionWarning: A column-vector y was passed when a 1d array was expected. Please change the shape of y to (n_samples, ), for example using ravel().\n",
      "  y = column_or_1d(y, warn=True)\n"
     ]
    }
   ],
   "source": [
    "data = ['bmw', 'audi', 'mersedes', 'lamborgini', 'bmw', 'bmw', 'tesla']\n",
    "df = pandas.DataFrame()\n",
    "df['brand'] = data\n",
    "label_encoder = LabelEncoder()\n",
    "label_encoded = label_encoder.fit_transform(df.values)\n",
    "\n",
    "print(label_encoded)"
   ]
  },
  {
   "cell_type": "markdown",
   "id": "da5ccbdf-dfce-4f91-ad2c-8426eb889a24",
   "metadata": {},
   "source": [
    "### One-Hot encoding"
   ]
  },
  {
   "cell_type": "markdown",
   "id": "25b611d0-b276-4cf1-a22c-26336b630755",
   "metadata": {},
   "source": [
    "The main problem of One-Hot Encoder is a significant increase in the amount of data, since large numbers of unique values of features are encoded by a large number of binary features."
   ]
  },
  {
   "cell_type": "code",
   "execution_count": 85,
   "id": "8b204591-ed67-402a-9c0a-1efc68d31408",
   "metadata": {
    "scrolled": true
   },
   "outputs": [
    {
     "name": "stdout",
     "output_type": "stream",
     "text": [
      "[[0. 1. 0. 0. 0.]\n",
      " [1. 0. 0. 0. 0.]\n",
      " [0. 0. 0. 1. 0.]\n",
      " [0. 0. 1. 0. 0.]\n",
      " [0. 1. 0. 0. 0.]\n",
      " [0. 1. 0. 0. 0.]\n",
      " [0. 0. 0. 0. 1.]]\n"
     ]
    }
   ],
   "source": [
    "onehot_encoder = OneHotEncoder()\n",
    "onehot_encoded = onehot_encoder.fit_transform(df.values)\n",
    "print(onehot_encoded.toarray())"
   ]
  }
 ],
 "metadata": {
  "kernelspec": {
   "display_name": "Python 3 (ipykernel)",
   "language": "python",
   "name": "python3"
  },
  "language_info": {
   "codemirror_mode": {
    "name": "ipython",
    "version": 3
   },
   "file_extension": ".py",
   "mimetype": "text/x-python",
   "name": "python",
   "nbconvert_exporter": "python",
   "pygments_lexer": "ipython3",
   "version": "3.11.5"
  }
 },
 "nbformat": 4,
 "nbformat_minor": 5
}
